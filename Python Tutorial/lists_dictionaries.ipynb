{
 "cells": [
  {
   "cell_type": "markdown",
   "metadata": {},
   "source": [
    "# Python Questions on Lists and Dictionaries"
   ]
  },
  {
   "cell_type": "markdown",
   "metadata": {},
   "source": [
    "## Beginner Level:"
   ]
  },
  {
   "cell_type": "markdown",
   "metadata": {},
   "source": [
    "### List Questions:\n",
    "1. Create a list of 5 numbers and print the sum of those numbers.\n",
    "2. How can you add an element to the end of a list?\n",
    "3. Write a Python program to find the largest number in a list.\n",
    "4. Create a list of strings and find the total number of characters in all strings combined.\n",
    "5. Write a Python program to remove the first occurrence of a specific item from a list.\n",
    "6. Create a list and access the first 3 elements using slicing.\n",
    "7. Write a Python program to check if a specific item (e.g., 5) is present in a list."
   ]
  },
  {
   "cell_type": "code",
   "execution_count": 7,
   "metadata": {},
   "outputs": [
    {
     "data": {
      "text/plain": [
       "15"
      ]
     },
     "execution_count": 7,
     "metadata": {},
     "output_type": "execute_result"
    }
   ],
   "source": [
    "#1. Create a list of 5 numbers and print the sum of those numbers.\n",
    "\n",
    "new_list = [ 1, 2, 3, 4, 5]\n",
    "\n",
    "sum(new_list)"
   ]
  },
  {
   "cell_type": "code",
   "execution_count": 8,
   "metadata": {},
   "outputs": [
    {
     "data": {
      "text/plain": [
       "[1, 2, 3, 4, 5, 6]"
      ]
     },
     "execution_count": 8,
     "metadata": {},
     "output_type": "execute_result"
    }
   ],
   "source": [
    "#2. How can you add an element to the end of a list?\n",
    "\n",
    "new_list.append(6)\n",
    "\n",
    "# or\n",
    "# new_list += [6]\n",
    "\n",
    "new_list"
   ]
  },
  {
   "cell_type": "code",
   "execution_count": 12,
   "metadata": {},
   "outputs": [
    {
     "data": {
      "text/plain": [
       "6"
      ]
     },
     "execution_count": 12,
     "metadata": {},
     "output_type": "execute_result"
    }
   ],
   "source": [
    "#3. Write a Python program to find the largest number in a list.\n",
    "\n",
    "max(new_list)\n",
    "\n",
    "#or \n",
    "\n",
    "sorted_list = new_list.sort()\n",
    "new_list[-1]"
   ]
  },
  {
   "cell_type": "code",
   "execution_count": 14,
   "metadata": {},
   "outputs": [
    {
     "name": "stdout",
     "output_type": "stream",
     "text": [
      "27\n",
      "27\n"
     ]
    }
   ],
   "source": [
    "#4. Create a list of strings and find the total number of characters in all strings combined.\n",
    "\n",
    "string_list = [\"hello\", \"world\", \"python\", \"programming\"]\n",
    "\n",
    "total = 0\n",
    "\n",
    "for string in string_list:\n",
    "    total += len(string)\n",
    "\n",
    "print(total)\n",
    "\n",
    "#or\n",
    "\n",
    "print(sum(len(string) for string in string_list))\n"
   ]
  },
  {
   "cell_type": "code",
   "execution_count": 16,
   "metadata": {},
   "outputs": [
    {
     "name": "stdout",
     "output_type": "stream",
     "text": [
      "[1, 2, 3, 4, 5]\n",
      "[1, 2, 3, 4, 5]\n"
     ]
    }
   ],
   "source": [
    "#5. Write a Python program to remove the first occurrence of a specific item from a list.\n",
    "\n",
    "item_to_remove = 6\n",
    "\n",
    "if item_to_remove in new_list:\n",
    "    new_list.remove(item_to_remove)\n",
    "\n",
    "print(new_list)\n",
    "\n",
    "#or\n",
    "\n",
    "new_list.append(item_to_remove) #adding back the item\n",
    "\n",
    "if item_to_remove in new_list:\n",
    "    del new_list[new_list.index(item_to_remove)]\n",
    "\n",
    "print(new_list)\n"
   ]
  },
  {
   "cell_type": "code",
   "execution_count": 17,
   "metadata": {},
   "outputs": [
    {
     "data": {
      "text/plain": [
       "[1, 2, 3]"
      ]
     },
     "execution_count": 17,
     "metadata": {},
     "output_type": "execute_result"
    }
   ],
   "source": [
    "#6. Create a list and access the first 3 elements using slicing.\n",
    "\n",
    "new_list[:3]"
   ]
  },
  {
   "cell_type": "code",
   "execution_count": 21,
   "metadata": {},
   "outputs": [
    {
     "name": "stdout",
     "output_type": "stream",
     "text": [
      "Not Exists\n",
      "Not Exists\n"
     ]
    }
   ],
   "source": [
    "#7. Write a Python program to check if a specific item (e.g., 5) is present in a list.\n",
    "\n",
    "item_to_search = 10\n",
    "\n",
    "if item_to_search in new_list:\n",
    "    print('Exists')\n",
    "else:\n",
    "    print('Not Exists')\n",
    "\n",
    "#or\n",
    "\n",
    "try:\n",
    "    new_list.index(item_to_search)\n",
    "    print('Exists')\n",
    "except ValueError:\n",
    "    print('Not Exists')"
   ]
  },
  {
   "cell_type": "markdown",
   "metadata": {},
   "source": [
    "### Dictionary Questions:\n",
    "1. Create a dictionary with 3 key-value pairs and print it.\n",
    "2. Write a Python program to get the value of a specific key from a dictionary.\n",
    "3. How do you add a new key-value pair to a dictionary?\n",
    "4. Create a dictionary and check if a particular key exists in it.\n",
    "5. Write a Python program to remove a key-value pair from a dictionary."
   ]
  },
  {
   "cell_type": "code",
   "execution_count": 29,
   "metadata": {},
   "outputs": [
    {
     "data": {
      "text/plain": [
       "{'name': 'Alice', 'age': 25, 'city': 'New York'}"
      ]
     },
     "execution_count": 29,
     "metadata": {},
     "output_type": "execute_result"
    }
   ],
   "source": [
    "#1. Create a dictionary with 3 key-value pairs and print it.\n",
    "\n",
    "my_dict = {\n",
    "    \"name\": \"Alice\",\n",
    "    \"age\": 25,\n",
    "    \"city\": \"New York\"\n",
    "}\n",
    "\n",
    "my_dict"
   ]
  },
  {
   "cell_type": "code",
   "execution_count": 30,
   "metadata": {},
   "outputs": [
    {
     "name": "stdout",
     "output_type": "stream",
     "text": [
      "Age of the person is 25\n"
     ]
    }
   ],
   "source": [
    "#2. Write a Python program to get the value of a specific key from a dictionary.\n",
    "\n",
    "print(f'Age of the person is {my_dict['age']}')"
   ]
  },
  {
   "cell_type": "code",
   "execution_count": 31,
   "metadata": {},
   "outputs": [],
   "source": [
    "#3. How do you add a new key-value pair to a dictionary?\n",
    "\n",
    "my_dict['gender'] = 'Female'"
   ]
  },
  {
   "cell_type": "code",
   "execution_count": 32,
   "metadata": {},
   "outputs": [
    {
     "data": {
      "text/plain": [
       "{'name': 'Alice', 'age': 25, 'city': 'New York', 'gender': 'Female'}"
      ]
     },
     "execution_count": 32,
     "metadata": {},
     "output_type": "execute_result"
    }
   ],
   "source": [
    "my_dict"
   ]
  },
  {
   "cell_type": "code",
   "execution_count": 33,
   "metadata": {},
   "outputs": [
    {
     "name": "stdout",
     "output_type": "stream",
     "text": [
      "age exists in the dictionary\n"
     ]
    }
   ],
   "source": [
    "#4. Create a dictionary and check if a particular key exists in it.\n",
    "\n",
    "key_to_check = 'age'\n",
    "\n",
    "if key_to_check in my_dict:\n",
    "    print(f'{key_to_check} exists in the dictionary')\n",
    "else:\n",
    "    print(f'{key_to_check} does not exists in the dictionary')"
   ]
  },
  {
   "cell_type": "code",
   "execution_count": 34,
   "metadata": {},
   "outputs": [
    {
     "data": {
      "text/plain": [
       "{'name': 'Alice', 'age': 25, 'city': 'New York'}"
      ]
     },
     "execution_count": 34,
     "metadata": {},
     "output_type": "execute_result"
    }
   ],
   "source": [
    "#5. Write a Python program to remove a key-value pair from a dictionary.\n",
    "\n",
    "key_to_remove = 'gender'\n",
    "\n",
    "my_dict.pop(key_to_remove)\n",
    "\n",
    "my_dict"
   ]
  },
  {
   "cell_type": "markdown",
   "metadata": {},
   "source": [
    "## Intermediate Level:\n",
    "\n",
    "### List Questions:\n",
    "1. Write a program to reverse a list in Python.\n",
    "2. How can you find the index of an item in a list?\n",
    "3. Write a program that takes a list of numbers and prints out only the even numbers.\n",
    "4. Create a program that removes all duplicate elements from a list.\n",
    "5. Write a program to find the common elements between two lists.\n"
   ]
  },
  {
   "cell_type": "code",
   "execution_count": 36,
   "metadata": {},
   "outputs": [
    {
     "data": {
      "text/plain": [
       "[6, 5, 4, 3, 2, 1]"
      ]
     },
     "execution_count": 36,
     "metadata": {},
     "output_type": "execute_result"
    }
   ],
   "source": [
    "#1. Write a program to reverse a list in Python\n",
    "\n",
    "my_list = [1, 2, 3, 4, 5, 6]\n",
    "\n",
    "my_list[::-1]"
   ]
  },
  {
   "cell_type": "code",
   "execution_count": 37,
   "metadata": {},
   "outputs": [
    {
     "data": {
      "text/plain": [
       "1"
      ]
     },
     "execution_count": 37,
     "metadata": {},
     "output_type": "execute_result"
    }
   ],
   "source": [
    "#2. How can you find the index of an item in a list?\n",
    "\n",
    "my_list.index(2)"
   ]
  },
  {
   "cell_type": "code",
   "execution_count": 39,
   "metadata": {},
   "outputs": [
    {
     "name": "stdout",
     "output_type": "stream",
     "text": [
      "[2, 4, 6]\n"
     ]
    }
   ],
   "source": [
    "#3. Write a program that takes a list of numbers and prints out only the even numbers.\n",
    "\n",
    "even_nums = [num for num in my_list if num % 2 == 0]\n",
    "print(even_nums)"
   ]
  },
  {
   "cell_type": "code",
   "execution_count": 41,
   "metadata": {},
   "outputs": [
    {
     "name": "stdout",
     "output_type": "stream",
     "text": [
      "[1, 2, 3, 4, 5, 6]\n"
     ]
    }
   ],
   "source": [
    "#4. Create a program that removes all duplicate elements from a list.\n",
    "\n",
    "my_list = [1, 2, 3, 4, 2, 5, 3, 6, 1]\n",
    "\n",
    "print(list(set(my_list)))"
   ]
  },
  {
   "cell_type": "code",
   "execution_count": 45,
   "metadata": {},
   "outputs": [
    {
     "name": "stdout",
     "output_type": "stream",
     "text": [
      "[4, 5]\n",
      "[4, 5]\n"
     ]
    }
   ],
   "source": [
    "#5. Write a program to find the common elements between two lists.\n",
    "\n",
    "list1 = [1, 2, 3, 4, 5]\n",
    "list2 = [4, 5, 6, 7, 8]\n",
    "\n",
    "print(list(set(list1) & set(list2)))\n",
    "\n",
    "#or\n",
    "\n",
    "print(list(set(list1).intersection(set(list2))))"
   ]
  },
  {
   "cell_type": "markdown",
   "metadata": {},
   "source": [
    "## Advanced Level:\n",
    "\n",
    "### List Questions:\n",
    "1. Write a Python program that takes a list of numbers and returns the second largest number.\n",
    "2. Implement a program that flattens a nested list (list of lists) into a single list.\n",
    "3. Write a program to find the intersection of multiple lists.\n",
    "4. How can you rotate a list by n elements?\n",
    "5. Write a program to perform a binary search on a sorted list.\n",
    "6. Find the Longest Increasing Subsequence in a List\n",
    "7. Find the K-th Smallest/Largest Element in a List\n",
    "8. Find All Pairs in a List that Sum to a Specific Value\n",
    "9. Sort a List of Dictionaries by a Key\n",
    "10. Merge Sorted Lists\n",
    "11. Find the Most Frequent Element in a List\n",
    "12. Find All Permutations of a List\n",
    "13. Find the Subarrays with a Given Sum\n",
    "14. Check if a List is a Sublist of Another List\n",
    "15. Find the Largest Product of Two Elements in a List\n",
    "16. Find the Median of a List\n",
    "17. Group Elements by Their Frequency\n",
    "18. Find the Intersection of Two Lists Without Duplicates\n",
    "19. Find the Maximum Consecutive Sequence in a List\n",
    "20. Check if a List is a Palindrome\n",
    "21. Remove Duplicates From a List While Preserving the Order\n",
    "22. Find the Longest Common Prefix of List of Strings\n",
    "23. Rotate a List in Place\n",
    "24. Find the Missing Number in a List of Consecutive Numbers\n",
    "25. Find the List of All Unique Triplets That Add Up to a Given Target\n",
    "26. Find the First Non-Repeating Element in a List"
   ]
  },
  {
   "cell_type": "code",
   "execution_count": 46,
   "metadata": {},
   "outputs": [
    {
     "name": "stdout",
     "output_type": "stream",
     "text": [
      "The second largest number is: 34\n"
     ]
    }
   ],
   "source": [
    "#1. Write a Python program that takes a list of numbers and returns the second largest number.\n",
    "\n",
    "def second_largest(numnbers):\n",
    "\n",
    "    unique_values = list(set(numbers))\n",
    "\n",
    "    unique_values.sort(reverse=True)\n",
    "\n",
    "    if len(unique_values) > 1:\n",
    "        return unique_values[1]\n",
    "    else:\n",
    "        return None\n",
    "\n",
    "numbers = [12, 35, 1, 10, 34, 1]\n",
    "result = second_largest(numbers)\n",
    "print(f\"The second largest number is: {result}\")"
   ]
  },
  {
   "cell_type": "code",
   "execution_count": 60,
   "metadata": {},
   "outputs": [
    {
     "name": "stdout",
     "output_type": "stream",
     "text": [
      "Flattened list: [1, 2, 3, 4, 5, 6, 7]\n"
     ]
    }
   ],
   "source": [
    "#2. Implement a program that flattens a nested list (list of lists) into a single list.\n",
    "\n",
    "def flatten(nested_list):\n",
    "    flat_list = []\n",
    "\n",
    "    for item in nested_list:\n",
    "        if isinstance(item, list):\n",
    "            flat_list.extend(flatten(item))\n",
    "        else:\n",
    "            flat_list.append(item)\n",
    "    \n",
    "    return flat_list\n",
    "\n",
    "nested_list = [1, [2, 3], [4, [5, 6]], 7]\n",
    "result = flatten(nested_list)\n",
    "print(f\"Flattened list: {result}\")"
   ]
  },
  {
   "cell_type": "code",
   "execution_count": 69,
   "metadata": {},
   "outputs": [
    {
     "name": "stdout",
     "output_type": "stream",
     "text": [
      "The intersection of the lists is: [4, 5]\n"
     ]
    }
   ],
   "source": [
    "#3. Write a program to find the intersection of multiple lists.\n",
    "\n",
    "def intersection_of_lists(*lists):\n",
    "    result = set(lists[0])\n",
    "\n",
    "    for list_ in lists[1:]:\n",
    "        result = result.intersection(list_)\n",
    "\n",
    "    return list(result)\n",
    "\n",
    "list1 = [1, 2, 3, 4, 5]\n",
    "list2 = [3, 4, 5, 6, 7]\n",
    "list3 = [4, 5, 8, 9]\n",
    "\n",
    "# Find the intersection of the three lists\n",
    "result = intersection_of_lists(list1, list2, list3)\n",
    "\n",
    "print(f\"The intersection of the lists is: {result}\")"
   ]
  },
  {
   "cell_type": "code",
   "execution_count": 71,
   "metadata": {},
   "outputs": [
    {
     "name": "stdout",
     "output_type": "stream",
     "text": [
      "List after left rotation by 2 elements: [3, 4, 5, 6, 1, 2]\n"
     ]
    }
   ],
   "source": [
    "#4. How can you rotate a list by n elements?\n",
    "\n",
    "def left_rotate(lst, n):\n",
    "\n",
    "    n = n % len(lst)\n",
    "\n",
    "    return lst[n:] + lst[:n]\n",
    "\n",
    "\n",
    "lst = [1, 2, 3, 4, 5, 6]\n",
    "n = 2\n",
    "result = left_rotate(lst, n)\n",
    "\n",
    "print(f\"List after left rotation by {n} elements: {result}\")"
   ]
  },
  {
   "cell_type": "code",
   "execution_count": 72,
   "metadata": {},
   "outputs": [
    {
     "name": "stdout",
     "output_type": "stream",
     "text": [
      "List after right rotation by 2 elements: [5, 6, 1, 2, 3, 4]\n"
     ]
    }
   ],
   "source": [
    "def right_rotate(lst, n):\n",
    "\n",
    "    n = n % len(lst)\n",
    "\n",
    "    return lst[-n:] + lst[:-n]\n",
    "\n",
    "\n",
    "lst = [1, 2, 3, 4, 5, 6]\n",
    "n = 2\n",
    "result = right_rotate(lst, n)\n",
    "\n",
    "print(f\"List after right rotation by {n} elements: {result}\")"
   ]
  },
  {
   "cell_type": "code",
   "execution_count": 78,
   "metadata": {},
   "outputs": [
    {
     "name": "stdout",
     "output_type": "stream",
     "text": [
      "Target 13 found at index 7.\n"
     ]
    }
   ],
   "source": [
    "#5. Write a program to perform a binary search on a sorted list.\n",
    "\n",
    "def binary_search(lst, target):\n",
    "\n",
    "\n",
    "    left = 0\n",
    "    right = len(lst)-1\n",
    "\n",
    "    while left <= right:\n",
    "        mid = (left + right) // 2\n",
    "\n",
    "        if lst[mid] == target:\n",
    "            return mid\n",
    "        elif lst[mid] < target:\n",
    "            left = mid + 1\n",
    "        else:\n",
    "            right = mid - 1\n",
    "            \n",
    "    return -1\n",
    "\n",
    "\n",
    "\n",
    "my_list = [0, 2, 4, 5, 6, 7, 9, 13, 23, 34, 34, 89]\n",
    "\n",
    "target = 13\n",
    "\n",
    "result = binary_search(my_list, target)\n",
    "\n",
    "if result != -1:\n",
    "    print(f\"Target {target} found at index {result}.\")\n",
    "else:\n",
    "    print(f\"Target {target} not found.\")\n"
   ]
  },
  {
   "cell_type": "code",
   "execution_count": null,
   "metadata": {},
   "outputs": [],
   "source": []
  },
  {
   "cell_type": "code",
   "execution_count": null,
   "metadata": {},
   "outputs": [],
   "source": []
  },
  {
   "cell_type": "code",
   "execution_count": null,
   "metadata": {},
   "outputs": [],
   "source": []
  },
  {
   "cell_type": "code",
   "execution_count": null,
   "metadata": {},
   "outputs": [],
   "source": []
  },
  {
   "cell_type": "code",
   "execution_count": null,
   "metadata": {},
   "outputs": [],
   "source": []
  },
  {
   "cell_type": "code",
   "execution_count": null,
   "metadata": {},
   "outputs": [],
   "source": []
  },
  {
   "cell_type": "code",
   "execution_count": null,
   "metadata": {},
   "outputs": [],
   "source": []
  },
  {
   "cell_type": "code",
   "execution_count": null,
   "metadata": {},
   "outputs": [],
   "source": []
  },
  {
   "cell_type": "code",
   "execution_count": null,
   "metadata": {},
   "outputs": [],
   "source": []
  },
  {
   "cell_type": "code",
   "execution_count": null,
   "metadata": {},
   "outputs": [],
   "source": []
  },
  {
   "cell_type": "markdown",
   "metadata": {},
   "source": [
    "### Dictionary Questions:\n",
    "1. Write a Python program to convert a list of tuples into a dictionary.\n",
    "2. Implement a program that counts the number of unique words in a list of sentences using a dictionary.\n",
    "3. How can you swap the keys and values in a dictionary?\n",
    "4. Write a program to find the key with the maximum value in a dictionary.\n",
    "5. Write a Python program that takes a list of dictionaries and sorts them based on a specific key."
   ]
  },
  {
   "cell_type": "markdown",
   "metadata": {},
   "source": []
  }
 ],
 "metadata": {
  "kernelspec": {
   "display_name": "Python 3",
   "language": "python",
   "name": "python3"
  },
  "language_info": {
   "codemirror_mode": {
    "name": "ipython",
    "version": 3
   },
   "file_extension": ".py",
   "mimetype": "text/x-python",
   "name": "python",
   "nbconvert_exporter": "python",
   "pygments_lexer": "ipython3",
   "version": "3.12.8"
  }
 },
 "nbformat": 4,
 "nbformat_minor": 2
}
